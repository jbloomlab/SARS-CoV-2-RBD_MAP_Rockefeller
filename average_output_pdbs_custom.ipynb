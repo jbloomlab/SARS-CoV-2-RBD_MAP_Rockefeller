{
 "cells": [
  {
   "cell_type": "markdown",
   "metadata": {},
   "source": [
    "# Output PDBs with teh *average* escape scores for a given antibody class or plasma group as B factors\n",
    "This Python Jupyter notebook outputs PDBs with the escape scores as B factors.\n",
    "\n",
    "Though we will want more elaborate series of commands to codify our visualization of these RBD structures colored by escape, the series of commands below, when executed in a `PyMol` session with one of these PDBs open, will color the RBD surface according to escape scores.\n",
    "\n",
    "We want to take \n",
    "\n",
    "Alternatively, it might be worth it to take a weighted average of the escape fractions for each condition within in a given group. This might be important because some (noisy) sera have relatively high escape fractions across the entire RBD. We currently show these as flat escape profiles in the logo plots, with ylims that are calculated according to specs in the `escape_profiles_config.yaml` file. These ylims are saved to an output CSV file in the `results/escape_profiles/` subdirectory, so it would be possible to normalize to that y-max value before averaging. This may not be necessary, so we should see how it looks first. \n",
    "\n",
    "Also, we are only interested in the toal escape at a site, not the max mutation effect. \n",
    "     \n",
    "We write PDBs with B factors indicating the group-average total site escape.\n",
    "\n",
    "First, import Python modules:"
   ]
  },
  {
   "cell_type": "code",
   "execution_count": 1,
   "metadata": {},
   "outputs": [],
   "source": [
    "import collections\n",
    "import copy\n",
    "import os\n",
    "import warnings\n",
    "\n",
    "import Bio.PDB\n",
    "\n",
    "import dms_variants.pdb_utils\n",
    "\n",
    "from IPython.display import display, HTML\n",
    "\n",
    "import pandas as pd\n",
    "\n",
    "import yaml"
   ]
  },
  {
   "cell_type": "markdown",
   "metadata": {},
   "source": [
    "Read the configuration file:"
   ]
  },
  {
   "cell_type": "code",
   "execution_count": 2,
   "metadata": {},
   "outputs": [],
   "source": [
    "with open('config.yaml') as f:\n",
    "    config = yaml.safe_load(f)"
   ]
  },
  {
   "cell_type": "markdown",
   "metadata": {},
   "source": [
    "Read escape profiles config file and configuration for outputting PDBs:"
   ]
  },
  {
   "cell_type": "code",
   "execution_count": 3,
   "metadata": {},
   "outputs": [
    {
     "name": "stdout",
     "output_type": "stream",
     "text": [
      "Reading escape profiles configuration from data/escape_profiles_config.yaml\n",
      "Reading PDB output configuration from data/average_output_pdbs_config.yaml\n"
     ]
    }
   ],
   "source": [
    "print(f\"Reading escape profiles configuration from {config['escape_profiles_config']}\")\n",
    "with open(config['escape_profiles_config']) as f:\n",
    "    escape_profiles_config = yaml.safe_load(f)\n",
    "\n",
    "print(f\"Reading PDB output configuration from {config['average_output_pdbs_config']}\")\n",
    "with open(config['average_output_pdbs_config']) as f:\n",
    "    average_output_pdbs_config = yaml.safe_load(f)"
   ]
  },
  {
   "cell_type": "markdown",
   "metadata": {},
   "source": [
    "Make output directory:"
   ]
  },
  {
   "cell_type": "code",
   "execution_count": 4,
   "metadata": {},
   "outputs": [],
   "source": [
    "os.makedirs(config['average_output_pdbs_results_dir'], exist_ok=True)"
   ]
  },
  {
   "cell_type": "markdown",
   "metadata": {},
   "source": [
    "Read escape fractions and compute **total** and **maximum** escape at each site, and also the total and maximum escape at each site normalized to be between 0 and 1 for each selection:"
   ]
  },
  {
   "cell_type": "code",
   "execution_count": 5,
   "metadata": {},
   "outputs": [
    {
     "name": "stdout",
     "output_type": "stream",
     "text": [
      "Reading escape fractions from results/escape_scores/escape_fracs.csv\n"
     ]
    },
    {
     "data": {
      "text/html": [
       "<table border=\"1\" class=\"dataframe\">\n",
       "  <thead>\n",
       "    <tr style=\"text-align: right;\">\n",
       "      <th>selection</th>\n",
       "      <th>site</th>\n",
       "      <th>total_escape</th>\n",
       "    </tr>\n",
       "  </thead>\n",
       "  <tbody>\n",
       "    <tr>\n",
       "      <td>12C_d152_80</td>\n",
       "      <td>331</td>\n",
       "      <td>0.049257</td>\n",
       "    </tr>\n",
       "    <tr>\n",
       "      <td>12C_d152_80</td>\n",
       "      <td>332</td>\n",
       "      <td>0.109619</td>\n",
       "    </tr>\n",
       "    <tr>\n",
       "      <td>12C_d152_80</td>\n",
       "      <td>333</td>\n",
       "      <td>0.051312</td>\n",
       "    </tr>\n",
       "    <tr>\n",
       "      <td>12C_d152_80</td>\n",
       "      <td>334</td>\n",
       "      <td>0.153061</td>\n",
       "    </tr>\n",
       "    <tr>\n",
       "      <td>12C_d152_80</td>\n",
       "      <td>335</td>\n",
       "      <td>0.115742</td>\n",
       "    </tr>\n",
       "  </tbody>\n",
       "</table>"
      ],
      "text/plain": [
       "<IPython.core.display.HTML object>"
      ]
     },
     "metadata": {},
     "output_type": "display_data"
    }
   ],
   "source": [
    "print(f\"Reading escape fractions from {config['escape_fracs']}\")\n",
    "\n",
    "escape_fracs = (\n",
    "    pd.read_csv(config['escape_fracs'])\n",
    "    .query('library == \"average\"')\n",
    "    .assign(site=lambda x: x['label_site'])\n",
    "    .groupby(['selection', 'site'])\n",
    "    .aggregate(total_escape=pd.NamedAgg(config['mut_metric'], 'sum'),\n",
    "#                max_escape=pd.NamedAgg(config['mut_metric'], 'max')\n",
    "               )\n",
    "    .reset_index()\n",
    "    )\n",
    "\n",
    "display(HTML(escape_fracs.head().to_html(index=False)))"
   ]
  },
  {
   "cell_type": "markdown",
   "metadata": {},
   "source": [
    "Now map the escape metrics to the B-factors.\n",
    "For sites where no mutations have escape scores:\n",
    " - In the RBD chain(s) fill the B-factor for non-normalized scores to -1 to enable collapsing to zero or callout as a a separate class, depending how we choose to color sites for different visualizations. \n",
    " - In other chains, always fill missing B factors to 0.  "
   ]
  },
  {
   "cell_type": "code",
   "execution_count": 6,
   "metadata": {},
   "outputs": [
    {
     "name": "stdout",
     "output_type": "stream",
     "text": [
      "\n",
      "Making PDB mappings for class1 to data/pdbs/6M0J.pdb\n",
      "Making mappings for 6 conditions.\n",
      "Mapping to the following chains: E\n",
      "  Writing B-factor re-assigned PDBs for class1 to:\n",
      "    results/bjorkman_custom_analyses/pdbs/class1_6m0j_mean_total_escape.pdb\n",
      "\n",
      "Making PDB mappings for class2 to data/pdbs/6M0J.pdb\n",
      "Making mappings for 6 conditions.\n",
      "Mapping to the following chains: E\n",
      "  Writing B-factor re-assigned PDBs for class2 to:\n",
      "    results/bjorkman_custom_analyses/pdbs/class2_6m0j_mean_total_escape.pdb\n",
      "\n",
      "Making PDB mappings for class3 to data/pdbs/6M0J.pdb\n",
      "Making mappings for 5 conditions.\n",
      "Mapping to the following chains: E\n",
      "  Writing B-factor re-assigned PDBs for class3 to:\n",
      "    results/bjorkman_custom_analyses/pdbs/class3_6m0j_mean_total_escape.pdb\n",
      "\n",
      "Making PDB mappings for class4 to data/pdbs/6M0J.pdb\n",
      "Making mappings for 4 conditions.\n",
      "Mapping to the following chains: E\n",
      "  Writing B-factor re-assigned PDBs for class4 to:\n",
      "    results/bjorkman_custom_analyses/pdbs/class4_6m0j_mean_total_escape.pdb\n",
      "\n",
      "Making PDB mappings for nyplasma to data/pdbs/6M0J.pdb\n",
      "Making mappings for 5 conditions.\n",
      "Mapping to the following chains: E\n",
      "  Writing B-factor re-assigned PDBs for nyplasma to:\n",
      "    results/bjorkman_custom_analyses/pdbs/nyplasma_6m0j_mean_total_escape.pdb\n",
      "\n",
      "Making PDB mappings for haarvi to data/pdbs/6M0J.pdb\n",
      "Making mappings for 23 conditions.\n",
      "Mapping to the following chains: E\n",
      "  Writing B-factor re-assigned PDBs for haarvi to:\n",
      "    results/bjorkman_custom_analyses/pdbs/haarvi_6m0j_mean_total_escape.pdb\n",
      "\n",
      "Making PDB mappings for allplasma to data/pdbs/6M0J.pdb\n",
      "Making mappings for 28 conditions.\n",
      "Mapping to the following chains: E\n",
      "  Writing B-factor re-assigned PDBs for allplasma to:\n",
      "    results/bjorkman_custom_analyses/pdbs/allplasma_6m0j_mean_total_escape.pdb\n"
     ]
    }
   ],
   "source": [
    "pdbfile = average_output_pdbs_config['pdb']['pdbfile']\n",
    "assert os.path.isfile(pdbfile)\n",
    "\n",
    "rbd_chains = average_output_pdbs_config['pdb']['chains']\n",
    "\n",
    "for name, ab_class in average_output_pdbs_config['conditions'].items():\n",
    "    print(f\"\\nMaking PDB mappings for {name} to {pdbfile}\")\n",
    "    \n",
    "    # get conditions from escape_profiles_config.yaml\n",
    "    assert isinstance(ab_class, list)\n",
    "    conditions = []\n",
    "    for group in ab_class:\n",
    "        assert group in escape_profiles_config\n",
    "        conditions += list(escape_profiles_config[group]['conditions'])\n",
    "    print(f\"Making mappings for {len(conditions)} conditions.\")\n",
    "    \n",
    "    # get escape fracs just for conditions of interest\n",
    "    df = escape_fracs.query('selection in @conditions')\n",
    "    \n",
    "    # assign average total_escape at each site across all the conditions in ab_class\n",
    "    df = (df\n",
    "          .assign(ab_class=name)\n",
    "          .groupby(['site'])\n",
    "          .aggregate(mean_total_escape=pd.NamedAgg('total_escape', 'mean'),\n",
    "                      )\n",
    "          .reset_index()\n",
    "          .drop_duplicates()\n",
    "         )\n",
    "    \n",
    "    # get chains\n",
    "    assert isinstance(rbd_chains, list)\n",
    "    print('Mapping to the following chains: ' + ', '.join(rbd_chains))\n",
    "    df = pd.concat([df.assign(chain=chain) for chain in rbd_chains], ignore_index=True)\n",
    "    \n",
    "    \n",
    "    # make mappings for each condition and metric\n",
    "    print(f\"  Writing B-factor re-assigned PDBs for {name} to:\")\n",
    "\n",
    "    for metric in ['mean_total_escape']:\n",
    "\n",
    "        # what do we assign to missing sites?\n",
    "        missing_metric = collections.defaultdict(lambda: 0)  # non-RBD chains always fill to zero\n",
    "        for chain in rbd_chains:\n",
    "            if 'norm' in metric:\n",
    "                missing_metric[chain] = 0  # missing sites in RBD are 0 for normalized metric PDBs\n",
    "            else:\n",
    "                missing_metric[chain] = -1  # missing sites in RBD are -1 for non-normalized metric PDBs\n",
    "\n",
    "        fname = os.path.join(config['average_output_pdbs_results_dir'], f\"{name}_6m0j_{metric}.pdb\")\n",
    "        print(f\"    {fname}\")\n",
    "\n",
    "        dms_variants.pdb_utils.reassign_b_factor(input_pdbfile=pdbfile,\n",
    "                                                 output_pdbfile=fname,\n",
    "                                                 df=df,\n",
    "                                                 metric_col=metric,\n",
    "                                                 missing_metric=missing_metric)"
   ]
  },
  {
   "cell_type": "code",
   "execution_count": null,
   "metadata": {},
   "outputs": [],
   "source": []
  }
 ],
 "metadata": {
  "language_info": {
   "name": "python"
  }
 },
 "nbformat": 4,
 "nbformat_minor": 4
}
